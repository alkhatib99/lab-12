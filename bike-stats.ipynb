{
 "cells": [
  {
   "cell_type": "markdown",
   "metadata": {},
   "source": [
    "# Data Analysis With pandas \n",
    "## Data set: Cycle Share Data set\n",
    "\n"
   ]
  },
  {
   "cell_type": "code",
   "execution_count": 4,
   "metadata": {},
   "outputs": [
    {
     "name": "stderr",
     "output_type": "stream",
     "text": [
      "/tmp/ipykernel_3825/1743290035.py:6: FutureWarning: The error_bad_lines argument has been deprecated and will be removed in a future version. Use on_bad_lines in the future.\n",
      "\n",
      "\n",
      "  trip_df = pd.read_csv('./bike_stats/trip.csv', error_bad_lines=False)\n",
      "b'Skipping line 50794: expected 12 fields, saw 20\\n'\n"
     ]
    }
   ],
   "source": [
    "import pandas as pd\n",
    "import numpy as np\n",
    "from datetime import datetime as dt\n",
    "\n",
    "\n",
    "trip_df = pd.read_csv('./bike_stats/trip.csv', error_bad_lines=False)\n",
    "\n",
    "weather_df = pd.read_csv('./bike_stats/weather.csv')\n",
    "\n",
    "station_df = pd.read_csv('./bike_stats/station.csv')"
   ]
  },
  {
   "cell_type": "markdown",
   "metadata": {},
   "source": [
    "## Q1: What is the average trip duration for a borrowed bicycle?"
   ]
  },
  {
   "cell_type": "code",
   "execution_count": 11,
   "metadata": {},
   "outputs": [
    {
     "data": {
      "text/plain": [
       "19.0"
      ]
     },
     "execution_count": 11,
     "metadata": {},
     "output_type": "execute_result"
    }
   ],
   "source": [
    "duration_in_minutes = trip_df['tripduration'].mean() // 60\n",
    "duration_in_minutes"
   ]
  },
  {
   "cell_type": "markdown",
   "metadata": {},
   "source": [
    "## Q2: What’s the most common age of a bicycle-sharer?\n"
   ]
  },
  {
   "cell_type": "code",
   "execution_count": 6,
   "metadata": {},
   "outputs": [],
   "source": [
    "age = 2020 - int(trip_df['birthyear'].value_counts().idxmax())\n",
    "age"
   ]
  },
  {
   "cell_type": "markdown",
   "metadata": {},
   "source": [
    "## Q3: Given all the weather data here, find the average precipitation per month, and the median precipitation.\n"
   ]
  },
  {
   "cell_type": "code",
   "execution_count": 7,
   "metadata": {},
   "outputs": [
    {
     "name": "stdout",
     "output_type": "stream",
     "text": [
      "       Month  Precipitation_In\n",
      "Month                         \n",
      "1        1.0          0.143548\n",
      "2        2.0          0.168421\n",
      "3        3.0          0.156935\n",
      "4        4.0          0.051333\n",
      "5        5.0          0.012419\n",
      "6        6.0          0.030500\n",
      "7        7.0          0.012097\n",
      "8        8.0          0.018226\n",
      "9        9.0          0.041000\n",
      "10      10.0          0.189000\n",
      "11      11.0          0.187833\n",
      "12      12.0          0.236290\n",
      "       Month  Precipitation_In\n",
      "Month                         \n",
      "1        1.0             0.020\n",
      "2        2.0             0.040\n",
      "3        3.0             0.025\n",
      "4        4.0             0.000\n",
      "5        5.0             0.000\n",
      "6        6.0             0.000\n",
      "7        7.0             0.000\n",
      "8        8.0             0.000\n",
      "9        9.0             0.000\n",
      "10      10.0             0.040\n",
      "11      11.0             0.035\n",
      "12      12.0             0.100\n"
     ]
    }
   ],
   "source": [
    "weather_df['Date'] = pd.to_datetime(weather_df['Date'])\n",
    "weather_df['Month'] = weather_df['Date'].dt.month\n",
    "avg = (weather_df[['Month','Precipitation_In']]).groupby(weather_df.Month).mean()\n",
    "print(avg)\n",
    "\n",
    "medi = (weather_df[['Month','Precipitation_In']]).groupby(weather_df.Month).median()\n",
    "print(medi)"
   ]
  },
  {
   "cell_type": "markdown",
   "metadata": {},
   "source": [
    "## Q4: What’s the average number of bikes at a given bike station?\n"
   ]
  },
  {
   "cell_type": "code",
   "execution_count": 8,
   "metadata": {},
   "outputs": [],
   "source": [
    "median_precipitation = station_df.current_dockcount.mean()\n",
    "median_precipitation"
   ]
  },
  {
   "cell_type": "markdown",
   "metadata": {},
   "source": [
    "## Q5: When a bike station is modified, is it more likely that it’ll lose bikes or gain bikes? How do you know?\n"
   ]
  },
  {
   "cell_type": "code",
   "execution_count": 9,
   "metadata": {},
   "outputs": [],
   "source": [
    "station = station_df[['modification_date','install_dockcount','current_dockcount']].dropna()\n",
    "bike_modified = station['current_dockcount'].sum()-station['install_dockcount'].sum()\n"
   ]
  },
  {
   "cell_type": "markdown",
   "metadata": {},
   "source": [
    "## The Test"
   ]
  },
  {
   "cell_type": "code",
   "execution_count": 10,
   "metadata": {},
   "outputs": [
    {
     "name": "stdout",
     "output_type": "stream",
     "text": [
      "Done..!\n"
     ]
    }
   ],
   "source": [
    "def test():\n",
    "    \n",
    "    def assert_equal(actual,expected):\n",
    "        assert actual == expected, f\"Expected {expected} but got {actual}\"\n",
    "\n",
    "    assert_equal(duration_in_minutes , 19.0 )\n",
    "    assert_equal(age, 33)\n",
    "    assert_equal(median_precipitation, 16.517241379310345)\n",
    "    assert_equal(bike_modified, -64)\n",
    "\n",
    "\n",
    "    print(\"Done..!\")\n",
    "\n",
    "test()"
   ]
  }
 ],
 "metadata": {
  "interpreter": {
   "hash": "7a53505fd5e465fc3bea52eb71384579747b696a60c49f003a7ad81f86d24983"
  },
  "kernelspec": {
   "display_name": "Python 3.8.10 ('.venv': poetry)",
   "language": "python",
   "name": "python3"
  },
  "language_info": {
   "codemirror_mode": {
    "name": "ipython",
    "version": 3
   },
   "file_extension": ".py",
   "mimetype": "text/x-python",
   "name": "python",
   "nbconvert_exporter": "python",
   "pygments_lexer": "ipython3",
   "version": "3.8.10"
  },
  "orig_nbformat": 4
 },
 "nbformat": 4,
 "nbformat_minor": 2
}
