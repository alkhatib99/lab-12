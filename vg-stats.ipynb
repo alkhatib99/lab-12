{
 "cells": [
  {
   "cell_type": "markdown",
   "id": "5f0d1714",
   "metadata": {
    "papermill": {
     "duration": 0.005202,
     "end_time": "2022-04-24T01:21:07.513351",
     "exception": false,
     "start_time": "2022-04-24T01:21:07.508149",
     "status": "completed"
    },
    "tags": []
   },
   "source": [
    "# Data Analysis With Pandas\n",
    "\n",
    "## Data Set Names: Video Game Sales\n"
   ]
  },
  {
   "cell_type": "code",
   "execution_count": 3,
   "id": "3ed47158",
   "metadata": {
    "execution": {
     "iopub.execute_input": "2022-04-24T01:21:07.523190Z",
     "iopub.status.busy": "2022-04-24T01:21:07.522723Z",
     "iopub.status.idle": "2022-04-24T01:21:07.534732Z",
     "shell.execute_reply": "2022-04-24T01:21:07.534139Z"
    },
    "papermill": {
     "duration": 0.019249,
     "end_time": "2022-04-24T01:21:07.536724",
     "exception": false,
     "start_time": "2022-04-24T01:21:07.517475",
     "status": "completed"
    },
    "tags": []
   },
   "outputs": [],
   "source": [
    "import numpy as np\n",
    "import pandas as pd\n",
    "\n",
    "full_data=pd.read_csv(\"./vgsales.csv\")\n",
    "data=full_data[full_data['Global_Sales']*1000000 > 10000]\n"
   ]
  },
  {
   "cell_type": "markdown",
   "id": "fa9d8836",
   "metadata": {},
   "source": [
    "## Q1: Which Company is the most Common Video Game publisher ?\n"
   ]
  },
  {
   "cell_type": "code",
   "execution_count": 4,
   "id": "df1bc376",
   "metadata": {},
   "outputs": [],
   "source": [
    "most_common_publisher = data['Publisher'].value_counts().idxmax()\n"
   ]
  },
  {
   "cell_type": "markdown",
   "id": "8df4a284",
   "metadata": {},
   "source": [
    "## Q2: What’s the most common platform?\n"
   ]
  },
  {
   "cell_type": "code",
   "execution_count": 5,
   "id": "6dbf7b31",
   "metadata": {},
   "outputs": [],
   "source": [
    "most_common_platform = data['Platform'].value_counts().idxmax()\n"
   ]
  },
  {
   "cell_type": "markdown",
   "id": "b9bc585c",
   "metadata": {},
   "source": [
    "## Q3: What about the most common genre?\n"
   ]
  },
  {
   "cell_type": "code",
   "execution_count": 6,
   "id": "95622b71",
   "metadata": {},
   "outputs": [],
   "source": [
    "most_common_genre = data['Genre'].value_counts().idxmax()\n"
   ]
  },
  {
   "cell_type": "markdown",
   "id": "43161834",
   "metadata": {},
   "source": [
    "## Q4: What are the top 20 highest grossing games?\n"
   ]
  },
  {
   "cell_type": "code",
   "execution_count": 7,
   "id": "37eaeef9",
   "metadata": {},
   "outputs": [],
   "source": [
    "top_twenty_highest_grossing_games = data[['Name', 'Global_Sales']].sort_values(['Global_Sales'], ascending=False).head(20)\n"
   ]
  },
  {
   "cell_type": "markdown",
   "id": "1c5c42f6",
   "metadata": {},
   "source": [
    "## Q5: For North American video game sales, what’s the median?\n"
   ]
  },
  {
   "cell_type": "code",
   "execution_count": 8,
   "id": "f8743599",
   "metadata": {},
   "outputs": [
    {
     "data": {
      "text/html": [
       "<div>\n",
       "<style scoped>\n",
       "    .dataframe tbody tr th:only-of-type {\n",
       "        vertical-align: middle;\n",
       "    }\n",
       "\n",
       "    .dataframe tbody tr th {\n",
       "        vertical-align: top;\n",
       "    }\n",
       "\n",
       "    .dataframe thead th {\n",
       "        text-align: right;\n",
       "    }\n",
       "</style>\n",
       "<table border=\"1\" class=\"dataframe\">\n",
       "  <thead>\n",
       "    <tr style=\"text-align: right;\">\n",
       "      <th></th>\n",
       "      <th>Rank</th>\n",
       "      <th>Name</th>\n",
       "      <th>Platform</th>\n",
       "      <th>Year</th>\n",
       "      <th>Genre</th>\n",
       "      <th>Publisher</th>\n",
       "      <th>NA_Sales</th>\n",
       "      <th>EU_Sales</th>\n",
       "      <th>JP_Sales</th>\n",
       "      <th>Other_Sales</th>\n",
       "      <th>Global_Sales</th>\n",
       "    </tr>\n",
       "  </thead>\n",
       "  <tbody>\n",
       "    <tr>\n",
       "      <th>7831</th>\n",
       "      <td>7833</td>\n",
       "      <td>IL-2 Sturmovik: Birds of Prey</td>\n",
       "      <td>PSP</td>\n",
       "      <td>2009.0</td>\n",
       "      <td>Simulation</td>\n",
       "      <td>505 Games</td>\n",
       "      <td>0.08</td>\n",
       "      <td>0.07</td>\n",
       "      <td>0.0</td>\n",
       "      <td>0.04</td>\n",
       "      <td>0.19</td>\n",
       "    </tr>\n",
       "    <tr>\n",
       "      <th>3186</th>\n",
       "      <td>3188</td>\n",
       "      <td>SingStar Queen</td>\n",
       "      <td>PS2</td>\n",
       "      <td>2009.0</td>\n",
       "      <td>Misc</td>\n",
       "      <td>Sony Computer Entertainment</td>\n",
       "      <td>0.08</td>\n",
       "      <td>0.12</td>\n",
       "      <td>0.0</td>\n",
       "      <td>0.44</td>\n",
       "      <td>0.63</td>\n",
       "    </tr>\n",
       "    <tr>\n",
       "      <th>9088</th>\n",
       "      <td>9090</td>\n",
       "      <td>Mary-Kate and Ashley: Winners Circle</td>\n",
       "      <td>PS</td>\n",
       "      <td>2001.0</td>\n",
       "      <td>Action</td>\n",
       "      <td>Acclaim Entertainment</td>\n",
       "      <td>0.08</td>\n",
       "      <td>0.05</td>\n",
       "      <td>0.0</td>\n",
       "      <td>0.01</td>\n",
       "      <td>0.14</td>\n",
       "    </tr>\n",
       "    <tr>\n",
       "      <th>10269</th>\n",
       "      <td>10271</td>\n",
       "      <td>The Scorpion King: Rise of the Akkadian</td>\n",
       "      <td>GC</td>\n",
       "      <td>2002.0</td>\n",
       "      <td>Action</td>\n",
       "      <td>Universal Interactive</td>\n",
       "      <td>0.08</td>\n",
       "      <td>0.02</td>\n",
       "      <td>0.0</td>\n",
       "      <td>0.00</td>\n",
       "      <td>0.11</td>\n",
       "    </tr>\n",
       "    <tr>\n",
       "      <th>10762</th>\n",
       "      <td>10764</td>\n",
       "      <td>Heatseeker</td>\n",
       "      <td>Wii</td>\n",
       "      <td>2007.0</td>\n",
       "      <td>Action</td>\n",
       "      <td>Codemasters</td>\n",
       "      <td>0.08</td>\n",
       "      <td>0.00</td>\n",
       "      <td>0.0</td>\n",
       "      <td>0.01</td>\n",
       "      <td>0.10</td>\n",
       "    </tr>\n",
       "    <tr>\n",
       "      <th>10262</th>\n",
       "      <td>10264</td>\n",
       "      <td>SimAnimals Africa</td>\n",
       "      <td>DS</td>\n",
       "      <td>2009.0</td>\n",
       "      <td>Simulation</td>\n",
       "      <td>Electronic Arts</td>\n",
       "      <td>0.08</td>\n",
       "      <td>0.02</td>\n",
       "      <td>0.0</td>\n",
       "      <td>0.01</td>\n",
       "      <td>0.11</td>\n",
       "    </tr>\n",
       "    <tr>\n",
       "      <th>10260</th>\n",
       "      <td>10262</td>\n",
       "      <td>Bust-A-Move DS</td>\n",
       "      <td>DS</td>\n",
       "      <td>2005.0</td>\n",
       "      <td>Puzzle</td>\n",
       "      <td>505 Games</td>\n",
       "      <td>0.08</td>\n",
       "      <td>0.02</td>\n",
       "      <td>0.0</td>\n",
       "      <td>0.01</td>\n",
       "      <td>0.11</td>\n",
       "    </tr>\n",
       "    <tr>\n",
       "      <th>10255</th>\n",
       "      <td>10257</td>\n",
       "      <td>X-Men: Next Dimension</td>\n",
       "      <td>XB</td>\n",
       "      <td>2002.0</td>\n",
       "      <td>Fighting</td>\n",
       "      <td>Activision</td>\n",
       "      <td>0.08</td>\n",
       "      <td>0.02</td>\n",
       "      <td>0.0</td>\n",
       "      <td>0.00</td>\n",
       "      <td>0.11</td>\n",
       "    </tr>\n",
       "    <tr>\n",
       "      <th>10254</th>\n",
       "      <td>10256</td>\n",
       "      <td>NHL Rivals 2004</td>\n",
       "      <td>XB</td>\n",
       "      <td>2003.0</td>\n",
       "      <td>Sports</td>\n",
       "      <td>Microsoft Game Studios</td>\n",
       "      <td>0.08</td>\n",
       "      <td>0.02</td>\n",
       "      <td>0.0</td>\n",
       "      <td>0.00</td>\n",
       "      <td>0.11</td>\n",
       "    </tr>\n",
       "    <tr>\n",
       "      <th>10253</th>\n",
       "      <td>10255</td>\n",
       "      <td>Outlaw Golf: Nine Holes of Christmas</td>\n",
       "      <td>XB</td>\n",
       "      <td>2002.0</td>\n",
       "      <td>Sports</td>\n",
       "      <td>Simon &amp; Schuster Interactive</td>\n",
       "      <td>0.08</td>\n",
       "      <td>0.02</td>\n",
       "      <td>0.0</td>\n",
       "      <td>0.00</td>\n",
       "      <td>0.11</td>\n",
       "    </tr>\n",
       "    <tr>\n",
       "      <th>8141</th>\n",
       "      <td>8143</td>\n",
       "      <td>Pirates: Hunt For Blackbeard's Booty</td>\n",
       "      <td>Wii</td>\n",
       "      <td>2008.0</td>\n",
       "      <td>Adventure</td>\n",
       "      <td>Activision</td>\n",
       "      <td>0.08</td>\n",
       "      <td>0.08</td>\n",
       "      <td>0.0</td>\n",
       "      <td>0.02</td>\n",
       "      <td>0.18</td>\n",
       "    </tr>\n",
       "  </tbody>\n",
       "</table>\n",
       "</div>"
      ],
      "text/plain": [
       "        Rank                                     Name Platform    Year  \\\n",
       "7831    7833            IL-2 Sturmovik: Birds of Prey      PSP  2009.0   \n",
       "3186    3188                           SingStar Queen      PS2  2009.0   \n",
       "9088    9090     Mary-Kate and Ashley: Winners Circle       PS  2001.0   \n",
       "10269  10271  The Scorpion King: Rise of the Akkadian       GC  2002.0   \n",
       "10762  10764                               Heatseeker      Wii  2007.0   \n",
       "10262  10264                        SimAnimals Africa       DS  2009.0   \n",
       "10260  10262                           Bust-A-Move DS       DS  2005.0   \n",
       "10255  10257                    X-Men: Next Dimension       XB  2002.0   \n",
       "10254  10256                          NHL Rivals 2004       XB  2003.0   \n",
       "10253  10255     Outlaw Golf: Nine Holes of Christmas       XB  2002.0   \n",
       "8141    8143     Pirates: Hunt For Blackbeard's Booty      Wii  2008.0   \n",
       "\n",
       "            Genre                     Publisher  NA_Sales  EU_Sales  JP_Sales  \\\n",
       "7831   Simulation                     505 Games      0.08      0.07       0.0   \n",
       "3186         Misc   Sony Computer Entertainment      0.08      0.12       0.0   \n",
       "9088       Action         Acclaim Entertainment      0.08      0.05       0.0   \n",
       "10269      Action         Universal Interactive      0.08      0.02       0.0   \n",
       "10762      Action                   Codemasters      0.08      0.00       0.0   \n",
       "10262  Simulation               Electronic Arts      0.08      0.02       0.0   \n",
       "10260      Puzzle                     505 Games      0.08      0.02       0.0   \n",
       "10255    Fighting                    Activision      0.08      0.02       0.0   \n",
       "10254      Sports        Microsoft Game Studios      0.08      0.02       0.0   \n",
       "10253      Sports  Simon & Schuster Interactive      0.08      0.02       0.0   \n",
       "8141    Adventure                    Activision      0.08      0.08       0.0   \n",
       "\n",
       "       Other_Sales  Global_Sales  \n",
       "7831          0.04          0.19  \n",
       "3186          0.44          0.63  \n",
       "9088          0.01          0.14  \n",
       "10269         0.00          0.11  \n",
       "10762         0.01          0.10  \n",
       "10262         0.01          0.11  \n",
       "10260         0.01          0.11  \n",
       "10255         0.00          0.11  \n",
       "10254         0.00          0.11  \n",
       "10253         0.00          0.11  \n",
       "8141          0.02          0.18  "
      ]
     },
     "execution_count": 8,
     "metadata": {},
     "output_type": "execute_result"
    }
   ],
   "source": [
    "na_median = data['NA_Sales'].median()\n",
    "data.iloc[(data['NA_Sales']- na_median).abs().argsort()[:11]]"
   ]
  },
  {
   "cell_type": "markdown",
   "id": "6dee867e",
   "metadata": {},
   "source": [
    "## Q6: For the top-selling game of all time, how many standard deviations above/below the mean are its sales for North America?\n"
   ]
  },
  {
   "cell_type": "code",
   "execution_count": 9,
   "id": "ba269513",
   "metadata": {},
   "outputs": [
    {
     "data": {
      "text/plain": [
       "0    49.618664\n",
       "Name: NA_Sales, dtype: float64"
      ]
     },
     "execution_count": 9,
     "metadata": {},
     "output_type": "execute_result"
    }
   ],
   "source": [
    "def zscore(s):\n",
    "    return (s - np.mean(s)) / np.std(s)\n",
    "zscore(data['NA_Sales']).head(1)"
   ]
  },
  {
   "cell_type": "markdown",
   "id": "9a2743c5",
   "metadata": {},
   "source": [
    "## Q7: The Nintendo Wii seems to have outdone itself with games. How does its average number of sales compare with all of the other platforms?"
   ]
  },
  {
   "cell_type": "code",
   "execution_count": 10,
   "id": "4093509e",
   "metadata": {},
   "outputs": [
    {
     "data": {
      "text/plain": [
       "Platform\n",
       "False    0.543983\n",
       "True     0.714830\n",
       "Name: Global_Sales, dtype: float64"
      ]
     },
     "execution_count": 10,
     "metadata": {},
     "output_type": "execute_result"
    }
   ],
   "source": [
    "data.groupby(data['Platform'] == 'Wii')['Global_Sales'].mean()\n"
   ]
  },
  {
   "cell_type": "markdown",
   "id": "038dbcb7",
   "metadata": {},
   "source": [
    "## Q8: (Additional) "
   ]
  }
 ],
 "metadata": {
  "kernelspec": {
   "display_name": "Python 3",
   "language": "python",
   "name": "python3"
  },
  "language_info": {
   "codemirror_mode": {
    "name": "ipython",
    "version": 3
   },
   "file_extension": ".py",
   "mimetype": "text/x-python",
   "name": "python",
   "nbconvert_exporter": "python",
   "pygments_lexer": "ipython3",
   "version": "3.8.10"
  },
  "papermill": {
   "default_parameters": {},
   "duration": 10.727518,
   "end_time": "2022-04-24T01:21:08.169119",
   "environment_variables": {},
   "exception": null,
   "input_path": "__notebook__.ipynb",
   "output_path": "__notebook__.ipynb",
   "parameters": {},
   "start_time": "2022-04-24T01:20:57.441601",
   "version": "2.3.4"
  }
 },
 "nbformat": 4,
 "nbformat_minor": 5
}
