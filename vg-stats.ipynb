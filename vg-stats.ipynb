{
 "cells": [
  {
   "cell_type": "markdown",
   "id": "5f0d1714",
   "metadata": {
    "papermill": {
     "duration": 0.005202,
     "end_time": "2022-04-24T01:21:07.513351",
     "exception": false,
     "start_time": "2022-04-24T01:21:07.508149",
     "status": "completed"
    },
    "tags": []
   },
   "source": [
    "# Data Analysis With Pandas\n",
    "\n",
    "## Data Set Names: Video Game Sales\n"
   ]
  },
  {
   "cell_type": "code",
   "execution_count": 1,
   "id": "3ed47158",
   "metadata": {
    "execution": {
     "iopub.execute_input": "2022-04-24T01:21:07.523190Z",
     "iopub.status.busy": "2022-04-24T01:21:07.522723Z",
     "iopub.status.idle": "2022-04-24T01:21:07.534732Z",
     "shell.execute_reply": "2022-04-24T01:21:07.534139Z"
    },
    "papermill": {
     "duration": 0.019249,
     "end_time": "2022-04-24T01:21:07.536724",
     "exception": false,
     "start_time": "2022-04-24T01:21:07.517475",
     "status": "completed"
    },
    "tags": []
   },
   "outputs": [],
   "source": [
    "import numpy as np\n",
    "import pandas as pd\n",
    "\n"
   ]
  },
  {
   "cell_type": "code",
   "execution_count": null,
   "id": "708b4c3e",
   "metadata": {
    "papermill": {
     "duration": 0.003587,
     "end_time": "2022-04-24T01:21:07.544564",
     "exception": false,
     "start_time": "2022-04-24T01:21:07.540977",
     "status": "completed"
    },
    "tags": []
   },
   "outputs": [],
   "source": []
  }
 ],
 "metadata": {
  "kernelspec": {
   "display_name": "Python 3",
   "language": "python",
   "name": "python3"
  },
  "language_info": {
   "codemirror_mode": {
    "name": "ipython",
    "version": 3
   },
   "file_extension": ".py",
   "mimetype": "text/x-python",
   "name": "python",
   "nbconvert_exporter": "python",
   "pygments_lexer": "ipython3",
   "version": "3.7.12"
  },
  "papermill": {
   "default_parameters": {},
   "duration": 10.727518,
   "end_time": "2022-04-24T01:21:08.169119",
   "environment_variables": {},
   "exception": null,
   "input_path": "__notebook__.ipynb",
   "output_path": "__notebook__.ipynb",
   "parameters": {},
   "start_time": "2022-04-24T01:20:57.441601",
   "version": "2.3.4"
  }
 },
 "nbformat": 4,
 "nbformat_minor": 5
}
